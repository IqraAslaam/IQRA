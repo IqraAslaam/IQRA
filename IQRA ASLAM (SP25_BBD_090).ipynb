{
 "cells": [
  {
   "cell_type": "markdown",
   "id": "0cc146a5-b14f-48eb-8ed4-67536e1bf26b",
   "metadata": {},
   "source": [
    "QUESTION NO 1:Write a function named say_hello() that prints:\n",
    "Hello, Python Learner!"
   ]
  },
  {
   "cell_type": "code",
   "execution_count": 1,
   "id": "ac828494-37fa-4eb8-b557-60f5ee2dc74b",
   "metadata": {},
   "outputs": [
    {
     "name": "stdout",
     "output_type": "stream",
     "text": [
      "Hello,Python Learner!\n"
     ]
    }
   ],
   "source": [
    "def say_hello():\n",
    "    print(f\"Hello,Python Learner!\")\n",
    "say_hello()"
   ]
  },
  {
   "cell_type": "markdown",
   "id": "d2df3716-fe4a-4eba-967a-9ab23af1d41f",
   "metadata": {},
   "source": [
    "QUESTION NO 2:Write a function called greet_user(name) that takes a name as a parameter and prints a \n",
    "personalized greeting."
   ]
  },
  {
   "cell_type": "code",
   "execution_count": 2,
   "id": "af8828b4-8735-4a26-9d62-be2967096e72",
   "metadata": {},
   "outputs": [
    {
     "name": "stdout",
     "output_type": "stream",
     "text": [
      "Hello,Alice!\n"
     ]
    }
   ],
   "source": [
    "def greet_user(name):\n",
    "    print(f\"Hello,{name}!\")\n",
    "greet_user(\"Alice\")"
   ]
  },
  {
   "cell_type": "markdown",
   "id": "73dad6a1-49b4-445b-88da-c2b02d79e26f",
   "metadata": {},
   "source": [
    "QUESTION NO 3:Create a function describe_pet(animal_type, pet_name) and use:\n",
    "• Positional arguments\n",
    "• Keyword arguments"
   ]
  },
  {
   "cell_type": "code",
   "execution_count": 3,
   "id": "245036e4-f129-4779-8d49-874246fd973e",
   "metadata": {},
   "outputs": [
    {
     "name": "stdout",
     "output_type": "stream",
     "text": [
      "I have a cat.\n",
      "My cat name is manto.\n"
     ]
    }
   ],
   "source": [
    "def describe_pet(animal_type,pet_name):\n",
    "    print(f\"I have a {animal_type}.\")\n",
    "    print(f\"My {animal_type} name is {pet_name}.\")\n",
    "describe_pet(\"cat\",\"manto\")"
   ]
  },
  {
   "cell_type": "markdown",
   "id": "ab73d887-cbd4-4ca4-bc8b-0e1f91f31389",
   "metadata": {},
   "source": [
    "QUESTION NO 4: Modify the describe_pet() function to use 'dog' as the default value for animal_type. \n",
    "Then call it with and without specifying the animal type."
   ]
  },
  {
   "cell_type": "code",
   "execution_count": 4,
   "id": "b90e1cf7-9c7c-4329-956b-c04e0a58f6e5",
   "metadata": {},
   "outputs": [
    {
     "name": "stdout",
     "output_type": "stream",
     "text": [
      "I have a cat.\n",
      "My cat name is manto.\n",
      "I have a dog.\n",
      "My dog name is jackie.\n"
     ]
    }
   ],
   "source": [
    "def describe_pet(animal_type,pet_name=\"dog\"):\n",
    "    print(f\"I have a {animal_type}.\")\n",
    "    print(f\"My {animal_type} name is {pet_name}.\")\n",
    "describe_pet(\"cat\",\"manto\")\n",
    "describe_pet(\"dog\",\"jackie\")"
   ]
  },
  {
   "cell_type": "markdown",
   "id": "8129b9e9-6b8a-48d4-bdb3-29e37c7ff14f",
   "metadata": {},
   "source": [
    "QUESTION NO 5:Create a function get_formatted_name(first, last) that returns a full name in title case. \n",
    "Print the returned value"
   ]
  },
  {
   "cell_type": "code",
   "execution_count": 5,
   "id": "848ff933-7c97-4a56-ae4b-1f7000d01409",
   "metadata": {},
   "outputs": [
    {
     "name": "stdout",
     "output_type": "stream",
     "text": [
      "Iqra Aslam\n"
     ]
    }
   ],
   "source": [
    "def get_formatted_name(first,last):\n",
    "    full_name=(f\"{first} {last}\")\n",
    "    return full_name.title()\n",
    "formatted_name=get_formatted_name(\"Iqra\",\"Aslam\")\n",
    "print(formatted_name)"
   ]
  },
  {
   "cell_type": "markdown",
   "id": "4e202110-38f2-470d-b043-e3600ddbebcc",
   "metadata": {},
   "source": [
    "QUESTION NO 6:Expand get_formatted_name() to handle optional middle names."
   ]
  },
  {
   "cell_type": "code",
   "execution_count": 6,
   "id": "bf433ad5-c5b4-43f2-92c8-78238e721ab0",
   "metadata": {},
   "outputs": [
    {
     "name": "stdout",
     "output_type": "stream",
     "text": [
      "John Doe\n",
      "John Michael Doe\n"
     ]
    }
   ],
   "source": [
    "def get_formatted_name(first, last, middle=''):\n",
    "    if middle:\n",
    "        full_name = f\"{first} {middle} {last}\"\n",
    "    else:\n",
    "        full_name = f\"{first} {last}\"\n",
    "    return full_name.title()\n",
    "print(get_formatted_name('joh', 'doe'))            \n",
    "print(get_formatted_name('john', 'doe', 'michael'))"
   ]
  },
  {
   "cell_type": "markdown",
   "id": "d6e34bc9-3505-4daa-a535-111cf0c1a102",
   "metadata": {},
   "source": [
    "QUESTION NO 7:Write a function build_person(first, last, age=None) that returns a dictionary \n",
    "representing a person."
   ]
  },
  {
   "cell_type": "code",
   "execution_count": 7,
   "id": "ab305e6c-0a63-4be1-9062-ae4eb80abee2",
   "metadata": {},
   "outputs": [
    {
     "name": "stdout",
     "output_type": "stream",
     "text": [
      "{'first_name': 'John', 'last_name': 'Doe'}\n"
     ]
    }
   ],
   "source": [
    "def build_person(first, last, age=None):\n",
    "    person = {\n",
    "        'first_name': first,\n",
    "        'last_name': last\n",
    "    }\n",
    "    if age is not None:\n",
    "        person['age'] = age\n",
    "    return person\n",
    "person = build_person('John', 'Doe')\n",
    "print(person)\n"
   ]
  },
  {
   "cell_type": "markdown",
   "id": "b7b280bd-c67b-4a99-bd40-e3ab80cf3533",
   "metadata": {},
   "source": [
    "QUESTION NO 8:Write a function greet_users(usernames) that takes a list of names and prints a greeting \n",
    "for each"
   ]
  },
  {
   "cell_type": "code",
   "execution_count": 8,
   "id": "15ac9eb2-a42e-4da8-b2ab-fb52ef1b6d68",
   "metadata": {},
   "outputs": [
    {
     "name": "stdout",
     "output_type": "stream",
     "text": [
      "Hello, Alice! Welcome back.\n",
      "Hello, Bob! Welcome back.\n",
      "Hello, Charlie! Welcome back.\n"
     ]
    }
   ],
   "source": [
    "def greet_users(usernames):\n",
    "    for name in usernames:\n",
    "        print(f\"Hello, {name.title()}! Welcome back.\")\n",
    "users = [\"alice\", \"bob\", \"charlie\"]\n",
    "greet_users(users)"
   ]
  },
  {
   "cell_type": "markdown",
   "id": "31f09c84-508b-4a72-8b35-2ad6cacd5fc7",
   "metadata": {},
   "source": [
    "QUESTION NO 9:Define make_pizza(*toppings) to accept any number of toppings and print them"
   ]
  },
  {
   "cell_type": "code",
   "execution_count": 11,
   "id": "0be42151-08bb-4ab1-8fa3-c87f02e377db",
   "metadata": {},
   "outputs": [
    {
     "name": "stdout",
     "output_type": "stream",
     "text": [
      "Making a pizza with the following toppings:\n",
      "pepperoni\n",
      "mushrooms\n",
      "green peppers\n"
     ]
    }
   ],
   "source": [
    "def make_pizza(*toppings):\n",
    "    print(\"Making a pizza with the following toppings:\")\n",
    "    for topping in toppings:\n",
    "        print(f\"{topping}\")\n",
    "make_pizza('pepperoni', 'mushrooms', 'green peppers')"
   ]
  },
  {
   "cell_type": "markdown",
   "id": "60b362ee-eb7d-4d8b-b739-33e1e6d2845c",
   "metadata": {},
   "source": [
    "QUESTION NO 10:Create a function build_profile(first, last, **info) that builds a user profile from \n",
    "any number of keyword arguments"
   ]
  },
  {
   "cell_type": "code",
   "execution_count": null,
   "id": "b4e3268a-2fbc-4314-ad4e-7dcf9d6c27cf",
   "metadata": {},
   "outputs": [],
   "source": [
    "def build_profile(first, last, **info):\n",
    "    profile = {\n",
    "        'first_name': first,\n",
    "        'last_name': last\n",
    "    }\n",
    "    profile.update(info)\n",
    "    return profile"
   ]
  }
 ],
 "metadata": {
  "kernelspec": {
   "display_name": "Python 3 (ipykernel)",
   "language": "python",
   "name": "python3"
  },
  "language_info": {
   "codemirror_mode": {
    "name": "ipython",
    "version": 3
   },
   "file_extension": ".py",
   "mimetype": "text/x-python",
   "name": "python",
   "nbconvert_exporter": "python",
   "pygments_lexer": "ipython3",
   "version": "3.12.7"
  }
 },
 "nbformat": 4,
 "nbformat_minor": 5
}
